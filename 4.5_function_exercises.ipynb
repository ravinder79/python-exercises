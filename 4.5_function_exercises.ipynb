{
 "cells": [
  {
   "cell_type": "code",
   "execution_count": null,
   "metadata": {},
   "outputs": [],
   "source": []
  },
  {
   "cell_type": "code",
   "execution_count": 36,
   "metadata": {},
   "outputs": [],
   "source": [
    "# 1. Define a function named is_two. It should accept one input and return True if the passed input is \n",
    "#either the number or the string 2, False otherwise.\n",
    "\n",
    "def is_two(x):\n",
    "    if x == 2 or x ==  '2':\n",
    "        return True\n",
    "    else:\n",
    "        return False"
   ]
  },
  {
   "cell_type": "code",
   "execution_count": 39,
   "metadata": {},
   "outputs": [],
   "source": [
    "# 2. Define a function named is_vowel. It should return True if the passed string is a vowel, False otherwise.\n",
    "\n",
    "def is_vowel(str):\n",
    "    if str.lower() in 'aeiou':\n",
    "        return True\n",
    "    else:\n",
    "        return False"
   ]
  },
  {
   "cell_type": "code",
   "execution_count": 46,
   "metadata": {},
   "outputs": [],
   "source": [
    "#Define a function named is_consonant. It should return True if the passed string is a consonant, False otherwise.\n",
    "#Use your is_vowel function to accomplish this.\n",
    "\n",
    "def is_consonant(str):\n",
    "    if not is_vowel(str) and str.isalpha() and len(str) == 1:\n",
    "        return True\n",
    "    else:\n",
    "        return False"
   ]
  },
  {
   "cell_type": "code",
   "execution_count": 50,
   "metadata": {},
   "outputs": [],
   "source": [
    "#Define a function that accepts a string that is a word. \n",
    "#The function should capitalize the first letter of the word if the word starts with a consonant.\n",
    "\n",
    "def cap(str):\n",
    "    if is_consonant(str[0]):\n",
    "        return str[0].upper()+str[1:]\n",
    "    else:\n",
    "        return str"
   ]
  },
  {
   "cell_type": "code",
   "execution_count": 702,
   "metadata": {},
   "outputs": [],
   "source": [
    "#Define a function named calculate_tip. It should accept a tip percentage (a number between 0 and 1) and the \n",
    "#bill total, and return the amount to tip.\n",
    "\n",
    "def calculate_tip(tip_percent, total_bill):\n",
    "    tip = total_bill * tip_percent\n",
    "    return '%.2f'%tip"
   ]
  },
  {
   "cell_type": "code",
   "execution_count": 59,
   "metadata": {},
   "outputs": [],
   "source": [
    "#Define a function named apply_discount. It should accept a original price, and a discount percentage, and return \n",
    "#the price after the discount is applied.\n",
    "\n",
    "def apply_discount(original_price, discount_percentage):\n",
    "    price_after_discount = (1 - discount_percentage) * original_price\n",
    "    return '%.2f'%price_after_discount"
   ]
  },
  {
   "cell_type": "code",
   "execution_count": 64,
   "metadata": {},
   "outputs": [],
   "source": [
    "#Define a function named handle_commas. It should accept a string that is a number that contains\n",
    "#commas in it as input, and return a number as output.\n",
    "\n",
    "def handle_commas(str):\n",
    "    number = str.replace(',',\"\")\n",
    "    return int(number)"
   ]
  },
  {
   "cell_type": "code",
   "execution_count": 114,
   "metadata": {},
   "outputs": [],
   "source": [
    "#Define a function named get_letter_grade. It should accept a number and return\n",
    "#the letter grade associated with that number (A-F).\n",
    "\n",
    "def letter_grade(number):\n",
    "    if number >= 88:\n",
    "        return 'A'\n",
    "    elif number >= 80:\n",
    "        return 'B'\n",
    "    elif number >= 67:\n",
    "        return 'C'\n",
    "    elif number >= 60:\n",
    "        return 'D'\n",
    "    else:\n",
    "        return 'F'"
   ]
  },
  {
   "cell_type": "code",
   "execution_count": 72,
   "metadata": {},
   "outputs": [],
   "source": [
    "#Define a function named remove_vowels that accepts a string and returns a string with all\n",
    "#the vowels removed\n",
    "\n",
    "def remove_vowels(str):\n",
    "    new_word =''\n",
    "    for char in str:\n",
    "        if char.lower() not in 'aeiou':\n",
    "           \n",
    "            new_word = new_word+char\n",
    "       \n",
    "    return new_word"
   ]
  },
  {
   "cell_type": "code",
   "execution_count": 91,
   "metadata": {},
   "outputs": [
    {
     "name": "stdout",
     "output_type": "stream",
     "text": [
      "hello W$orld1$\n"
     ]
    },
    {
     "data": {
      "text/plain": [
       "'hello_world1'"
      ]
     },
     "execution_count": 91,
     "metadata": {},
     "output_type": "execute_result"
    }
   ],
   "source": [
    "# #Define a function named normalize_name. It should accept a string and return a valid python identifier, that is:\n",
    "# anything that is not a valid python identifier should be removed\n",
    "# leading and trailing whitespace should be removed\n",
    "# everything should be lowercase\n",
    "# spaces should be replaced with underscores\n",
    "# for example:\n",
    "# Name will become name\n",
    "# First Name will become first_name\n",
    "# % Completed will become completed\n",
    "\n",
    "def normalize_name(x):\n",
    "    new_word = ''\n",
    "    while not (x[0].isalpha() or x[0] == '_'):  # this block removes any charcters from front of input except '_' and alphabets\n",
    "        x = x[1:]\n",
    "    print(x)\n",
    "   # x = x.strip()   # this block removes any trailing white spaces\n",
    "   \n",
    "\n",
    "    for char in x:       # this block removes any non-alphanumeric characters and replaces space with '_'\n",
    "        if char == ' ':\n",
    "            new_word = new_word + '_'\n",
    "        elif char == \"_\":\n",
    "            new_word = new_word + char\n",
    "        elif not char.isalnum():\n",
    "            new_word = new_word\n",
    "        else:\n",
    "            new_word = new_word + char\n",
    "    return new_word.lower()\n",
    "\n",
    "normalize_name('$12&*$^3hello W$orld1$')\n"
   ]
  },
  {
   "cell_type": "code",
   "execution_count": 84,
   "metadata": {},
   "outputs": [
    {
     "data": {
      "text/plain": [
       "False"
      ]
     },
     "execution_count": 84,
     "metadata": {},
     "output_type": "execute_result"
    }
   ],
   "source": []
  },
  {
   "cell_type": "code",
   "execution_count": 297,
   "metadata": {},
   "outputs": [
    {
     "data": {
      "text/plain": [
       "[1, 3, 6, 10]"
      ]
     },
     "execution_count": 297,
     "metadata": {},
     "output_type": "execute_result"
    }
   ],
   "source": [
    "# Write a function named cumsum that accepts a list of numbers and returns a list that is\n",
    "#the cumulative sum of the numbers in the list.\n",
    "# cumsum([1, 1, 1]) returns [1, 2, 3]\n",
    "# cumsum([1, 2, 3, 4]) returns [1, 3, 6, 10]\n",
    "\n",
    "\n",
    "def cumsum(x):\n",
    "    for i in range(0,len(x)):\n",
    "        if i >= 1 and i < len(x)-1:\n",
    "            x[i] = x[i] + x[i-1]\n",
    "        \n",
    "        if i == len(x)-1:\n",
    "            x[i] = x[i]+ x[i-1]\n",
    "        \n",
    "    \n",
    "    return x\n",
    "\n",
    "cumsum([1, 2, 3, 4])\n",
    "    "
   ]
  },
  {
   "cell_type": "code",
   "execution_count": 22,
   "metadata": {
    "scrolled": true
   },
   "outputs": [],
   "source": [
    "# Create a function named twelveto24. It should accept a string in the format 10:45am or 4:30pm and return\n",
    "# a string that is the representation of the time in a 24-hour format. \n",
    "# Bonus write a function that does the opposite.\n",
    "\n",
    "\n",
    "def twelveto24(x):\n",
    "    hour =''\n",
    "    minute = ''\n",
    "    a_or_p = ''\n",
    "   \n",
    "    if (x[1] == ':'):\n",
    "        hour = hour + x[0]\n",
    "        minute = minute + x[2] + x[3]\n",
    "        a_or_p = x[4]\n",
    "       \n",
    "    else:\n",
    "        hour = hour + x[0] + x[1]\n",
    "        minute = minute + x[3] + x[4]\n",
    "        a_or_p = x[5]\n",
    "       \n",
    " \n",
    "    if (a_or_p == 'p') and (hour != '12'):\n",
    "            hour = int(hour) + 12\n",
    "        \n",
    "        \n",
    "    elif (a_or_p =='a' and hour == '12'):\n",
    "            hour = int(hour) - 12\n",
    "           \n",
    "        \n",
    "    else:\n",
    "            hour = int(hour)\n",
    "                 \n",
    "    \n",
    "    if len(str(hour) + ':' + str(minute)) == 4:\n",
    "        return '0' + str(hour) + ':' + str(minute)\n",
    "    \n",
    "    else:\n",
    "        return str(hour) + ':' + str(minute)\n",
    "        \n",
    "        \n",
    "\n",
    "\n",
    "    \n",
    "            \n",
    "    \n",
    " "
   ]
  },
  {
   "cell_type": "code",
   "execution_count": 23,
   "metadata": {
    "scrolled": true
   },
   "outputs": [
    {
     "data": {
      "text/plain": [
       "'12:20'"
      ]
     },
     "execution_count": 23,
     "metadata": {},
     "output_type": "execute_result"
    }
   ],
   "source": [
    "twelveto24('12:20pm')"
   ]
  },
  {
   "cell_type": "code",
   "execution_count": 20,
   "metadata": {},
   "outputs": [],
   "source": [
    "# Bonus: write a function that does the opposite.\n",
    "\n",
    "def twentyhourto12(x):\n",
    "    \n",
    "    for i in x:\n",
    "        hour = int(x[0] + x[1])\n",
    "        minute = int(x[3] + x[4])\n",
    "\n",
    "   \n",
    "    if hour >= 12:\n",
    "        am_or_pm = 'pm'\n",
    "    else:\n",
    "        am_or_pm = 'am'\n",
    "\n",
    " \n",
    "    if hour > 12:\n",
    "        hour -= 12\n",
    "        \n",
    "    \n",
    "    elif hour == 0:\n",
    "        hour = 12\n",
    "        \n",
    "    \n",
    "    return  str(hour) + ':' + str(minute) + str(am_or_pm)\n",
    "        \n",
    "\n",
    "        \n",
    "    "
   ]
  },
  {
   "cell_type": "code",
   "execution_count": 25,
   "metadata": {},
   "outputs": [
    {
     "data": {
      "text/plain": [
       "'11:27pm'"
      ]
     },
     "execution_count": 25,
     "metadata": {},
     "output_type": "execute_result"
    }
   ],
   "source": [
    "twentyhourto12('23:27')"
   ]
  },
  {
   "cell_type": "code",
   "execution_count": 16,
   "metadata": {},
   "outputs": [],
   "source": [
    "# Create a function named col_index. It should accept a spreadsheet column name, and return the index number of the column.\n",
    "# col_index('A') returns 1\n",
    "# col_index('B') returns 2\n",
    "# col_index('AA') returns 27\n",
    "\n",
    "def col_index(x):\n",
    "\n",
    "    dictt = {'a':'1','b':'2','c':'3','d':'4','e':'5','f':'6','g':'7','h':'8',\n",
    "        'i':'9','j':'10','k':'11','l':'12','m':'13','n':'14','o':'15','p':'16','q':'17',\n",
    "        'r':'18','s':'19','t':'20','u':'21','v':'22','w':'23','x':'24','y':'25','z':'26'\n",
    "        }\n",
    "    y = x.lower()\n",
    "    n = len(x)\n",
    "    num = 0\n",
    "\n",
    "    for i in range(0,n):\n",
    "        num = (26**(n-1-i)) * int(dictt[y[i]]) +num\n",
    "\n",
    "\n",
    "    return num"
   ]
  },
  {
   "cell_type": "code",
   "execution_count": 35,
   "metadata": {},
   "outputs": [
    {
     "data": {
      "text/plain": [
       "731"
      ]
     },
     "execution_count": 35,
     "metadata": {},
     "output_type": "execute_result"
    }
   ],
   "source": [
    "col_index('abc')"
   ]
  },
  {
   "cell_type": "code",
   "execution_count": null,
   "metadata": {},
   "outputs": [],
   "source": []
  }
 ],
 "metadata": {
  "kernelspec": {
   "display_name": "Python 3",
   "language": "python",
   "name": "python3"
  },
  "language_info": {
   "codemirror_mode": {
    "name": "ipython",
    "version": 3
   },
   "file_extension": ".py",
   "mimetype": "text/x-python",
   "name": "python",
   "nbconvert_exporter": "python",
   "pygments_lexer": "ipython3",
   "version": "3.7.4"
  }
 },
 "nbformat": 4,
 "nbformat_minor": 2
}
