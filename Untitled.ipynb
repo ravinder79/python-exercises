{
 "cells": [
  {
   "cell_type": "code",
   "execution_count": 47,
   "metadata": {},
   "outputs": [
    {
     "name": "stdout",
     "output_type": "stream",
     "text": [
      "Enter the day of a week: tuesday\n",
      "Today is not Monday! Today is tuesday\n"
     ]
    }
   ],
   "source": [
    "day = input(\"Enter the day of a week: \")\n",
    "if day.lower() == 'monday':\n",
    "    print(\"Today is Monday!\")\n",
    "else:\n",
    "    print(f\"Today is not Monday! Today is {day}\")\n",
    "    "
   ]
  },
  {
   "cell_type": "code",
   "execution_count": 61,
   "metadata": {},
   "outputs": [
    {
     "name": "stdout",
     "output_type": "stream",
     "text": [
      "Enter a day of the week: sunday\n",
      "sunday is a weekend\n"
     ]
    }
   ],
   "source": [
    "day = input(\"Enter a day of the week: \")\n",
    "\n",
    "while (day.lower() not in ['monday', 'tuesday', 'wednesday', 'thursday', 'friday','saturday', 'sunday']):\n",
    "    day = input(\"Enter a day of the week: \")\n",
    "    \n",
    "if (day.lower() == 'sunday' or day.lower() == 'saturday'):\n",
    "    print(f\"{day} is a weekend\")\n",
    "    \n",
    "else:\n",
    "    print(f\"{day} is a weekday\")\n"
   ]
  },
  {
   "cell_type": "code",
   "execution_count": 7,
   "metadata": {},
   "outputs": [
    {
     "name": "stdout",
     "output_type": "stream",
     "text": [
      "Weekly paycheck is $ 5160.0\n"
     ]
    }
   ],
   "source": [
    "hours_worked_per_week = 42\n",
    "hourly_rate = 120\n",
    "if hours_worked_per_week <= 40:\n",
    "    weekly_paycheck = hours_worked_per_week * hourly_rate\n",
    "else:\n",
    "    weekly_paycheck = 40 * hourly_rate + (hours_worked_per_week-40) * hourly_rate * 1.5\n",
    "\n",
    "print(f\"Weekly paycheck is $ {weekly_paycheck}\")"
   ]
  },
  {
   "cell_type": "code",
   "execution_count": 9,
   "metadata": {},
   "outputs": [
    {
     "name": "stdout",
     "output_type": "stream",
     "text": [
      "5\n",
      "6\n",
      "7\n",
      "8\n",
      "9\n",
      "10\n",
      "11\n",
      "12\n",
      "13\n",
      "14\n",
      "15\n"
     ]
    }
   ],
   "source": [
    "i = 5\n",
    "\n",
    "while i <= 15:\n",
    "    print(i)\n",
    "    i += 1"
   ]
  },
  {
   "cell_type": "code",
   "execution_count": 15,
   "metadata": {},
   "outputs": [
    {
     "name": "stdout",
     "output_type": "stream",
     "text": [
      "0\n",
      "2\n",
      "4\n",
      "6\n",
      "8\n",
      "10\n",
      "12\n",
      "14\n",
      "16\n",
      "18\n",
      "20\n",
      "22\n",
      "24\n",
      "26\n",
      "28\n",
      "30\n",
      "32\n",
      "34\n",
      "36\n",
      "38\n",
      "40\n",
      "42\n",
      "44\n",
      "46\n",
      "48\n",
      "50\n",
      "52\n",
      "54\n",
      "56\n",
      "58\n",
      "60\n",
      "62\n",
      "64\n",
      "66\n",
      "68\n",
      "70\n",
      "72\n",
      "74\n",
      "76\n",
      "78\n",
      "80\n",
      "82\n",
      "84\n",
      "86\n",
      "88\n",
      "90\n",
      "92\n",
      "94\n",
      "96\n",
      "98\n",
      "100\n"
     ]
    }
   ],
   "source": [
    "i = 0\n",
    "\n",
    "while i <= 100:\n",
    "    print(i)\n",
    "    i += 2"
   ]
  },
  {
   "cell_type": "code",
   "execution_count": 17,
   "metadata": {},
   "outputs": [
    {
     "name": "stdout",
     "output_type": "stream",
     "text": [
      "100\n",
      "95\n",
      "90\n",
      "85\n",
      "80\n",
      "75\n",
      "70\n",
      "65\n",
      "60\n",
      "55\n",
      "50\n",
      "45\n",
      "40\n",
      "35\n",
      "30\n",
      "25\n",
      "20\n",
      "15\n",
      "10\n",
      "5\n",
      "0\n",
      "-5\n",
      "-10\n"
     ]
    }
   ],
   "source": [
    "i = 100\n",
    "while i >= -10:\n",
    "    print(i)\n",
    "    i += -5"
   ]
  },
  {
   "cell_type": "code",
   "execution_count": 22,
   "metadata": {},
   "outputs": [
    {
     "name": "stdout",
     "output_type": "stream",
     "text": [
      "2\n",
      "4\n",
      "16\n",
      "256\n",
      "65536\n"
     ]
    }
   ],
   "source": [
    "i = 2\n",
    "print(i)\n",
    "while ((i * i) < 1000000):\n",
    "    print (i * i)\n",
    "    i = i * i"
   ]
  },
  {
   "cell_type": "code",
   "execution_count": 23,
   "metadata": {},
   "outputs": [
    {
     "name": "stdout",
     "output_type": "stream",
     "text": [
      "100\n",
      "95\n",
      "90\n",
      "85\n",
      "80\n",
      "75\n",
      "70\n",
      "65\n",
      "60\n",
      "55\n",
      "50\n",
      "45\n",
      "40\n",
      "35\n",
      "30\n",
      "25\n",
      "20\n",
      "15\n",
      "10\n",
      "5\n"
     ]
    }
   ],
   "source": [
    " i = 100\n",
    " \n",
    "\n",
    " while i >= 5:\n",
    "     print(i)\n",
    "     i -= 5"
   ]
  },
  {
   "cell_type": "code",
   "execution_count": 63,
   "metadata": {},
   "outputs": [
    {
     "name": "stdout",
     "output_type": "stream",
     "text": [
      " Enter a number: 2\n",
      "2 * 1 = 2\n",
      "2 * 2 = 4\n",
      "2 * 3 = 6\n",
      "2 * 4 = 8\n",
      "2 * 5 = 10\n",
      "2 * 6 = 12\n",
      "2 * 7 = 14\n",
      "2 * 8 = 16\n",
      "2 * 9 = 18\n",
      "2 * 10 = 20\n"
     ]
    }
   ],
   "source": [
    "num = input(\" Enter a number: \")\n",
    "i = 1\n",
    "for i in range(1,11):\n",
    "    print(f\"{num} * {i} = {int(num)*i}\")\n",
    "    i += 1"
   ]
  },
  {
   "cell_type": "code",
   "execution_count": 53,
   "metadata": {},
   "outputs": [
    {
     "name": "stdout",
     "output_type": "stream",
     "text": [
      "1\n",
      "22\n",
      "333\n",
      "4444\n",
      "55555\n",
      "666666\n",
      "7777777\n",
      "88888888\n",
      "999999999\n"
     ]
    }
   ],
   "source": [
    "i = 1\n",
    "\n",
    "for i in range (1,10):\n",
    "    print(str(i)*i)\n"
   ]
  },
  {
   "cell_type": "code",
   "execution_count": 85,
   "metadata": {},
   "outputs": [
    {
     "data": {
      "text/plain": [
       "False"
      ]
     },
     "execution_count": 85,
     "metadata": {},
     "output_type": "execute_result"
    }
   ],
   "source": [
    "num = str(-22)\n",
    "num.isdigit()"
   ]
  },
  {
   "cell_type": "code",
   "execution_count": 80,
   "metadata": {},
   "outputs": [
    {
     "name": "stdout",
     "output_type": "stream",
     "text": [
      "Enter a odd number between 1 and 50: few\n",
      "Not a valid input. Enter a odd number between 1 and 50:  : fwe\n",
      "Not a valid input. Enter a odd number between 1 and 50:  : 22\n",
      "Not a valid input. Enter a odd number between 1 and 50:  :  21\n",
      " Here is a odd number: 1\n",
      " Here is a odd number: 3\n",
      " Here is a odd number: 5\n",
      " Here is a odd number: 7\n",
      " Here is a odd number: 9\n",
      " Here is a odd number: 11\n",
      " Here is a odd number: 13\n",
      " Here is a odd number: 15\n",
      " Here is a odd number: 17\n",
      " Here is a odd number: 19\n",
      " Here is a odd number: 23\n",
      " Here is a odd number: 25\n",
      " Here is a odd number: 27\n",
      " Here is a odd number: 29\n",
      " Here is a odd number: 31\n",
      " Here is a odd number: 33\n",
      " Here is a odd number: 35\n",
      " Here is a odd number: 37\n",
      " Here is a odd number: 39\n",
      " Here is a odd number: 41\n",
      " Here is a odd number: 43\n",
      " Here is a odd number: 45\n",
      " Here is a odd number: 47\n",
      " Here is a odd number: 49\n"
     ]
    }
   ],
   "source": [
    "num = input(\"Enter a odd number between 1 and 50: \")\n",
    "\n",
    "while(num.isdigit()== False):\n",
    "    num = input(\"Not a valid input. Enter a odd number between 1 and 50:  : \")\n",
    "\n",
    "       \n",
    "while (int(num) <1 or int(num) >50 or int(num) % 2 ==0):\n",
    "    num = input(\"Not a valid input. Enter a odd number between 1 and 50:  :  \")\n",
    "    if (num.isdigit() and int(num) >1 and int(num) < 50 and (int(num) % 2 == 1)):\n",
    "        break\n",
    "        \n",
    "for i in range(1,51):\n",
    "    if i != int(num) and i % 2 == 1:\n",
    "        print(f\" Here is a odd number: {i}\")\n",
    "    else:\n",
    "        continue"
   ]
  },
  {
   "cell_type": "code",
   "execution_count": 87,
   "metadata": {},
   "outputs": [
    {
     "name": "stdout",
     "output_type": "stream",
     "text": [
      "Enter a positive number: sad\n",
      "Not a valid input. Enter a positive number: sf\n",
      "Not a valid input. Enter a positive number: -1\n",
      "Not a valid input. Enter a positive number: 3\n",
      "0\n",
      "1\n",
      "2\n",
      "3\n"
     ]
    }
   ],
   "source": [
    "num = input(\"Enter a positive number: \")\n",
    "\n",
    "while (num.isdigit() == False):\n",
    "       num = input(\"Not a valid input. Enter a positive number: \")\n",
    "\n",
    "# while (num.isdigit() and int(num)) <= 0:\n",
    "#     num = input(\"Enter a positive number: \")\n",
    "#     if (num.isdigit() and int(num)>0):\n",
    "#         break\n",
    "    \n",
    "\n",
    "for i in range(0, int(num)+1):\n",
    "    print(i)\n",
    "        "
   ]
  },
  {
   "cell_type": "code",
   "execution_count": 90,
   "metadata": {},
   "outputs": [
    {
     "name": "stdout",
     "output_type": "stream",
     "text": [
      "Enter a positive number greater than 1: 5\n",
      "5\n",
      "4\n",
      "3\n",
      "2\n",
      "1\n"
     ]
    }
   ],
   "source": [
    "num = input(\"Enter a positive number greater than 1: \")\n",
    "\n",
    "while (num.isdigit() == False):\n",
    "       num = input(\"Not a valid input. Enter a positive number: \")\n",
    "        \n",
    "# while (num.isdigit()== False or int(num) <= 1):\n",
    "#     num = input(\"Enter a positive number greater than 1: \")\n",
    "#     if (num.isdigit() and int(num) > 1):\n",
    "#         break\n",
    "\n",
    "for i in range(1, int(num)+1):\n",
    "    print(int(num)+1-i)"
   ]
  },
  {
   "cell_type": "code",
   "execution_count": 156,
   "metadata": {},
   "outputs": [
    {
     "name": "stdout",
     "output_type": "stream",
     "text": [
      "Here is your table! \n",
      "\n",
      "number | squared | cubed\n"
     ]
    }
   ],
   "source": [
    "print(\"Here is your table!\"\" \\n\\nnumber | squared | cubed\")"
   ]
  },
  {
   "cell_type": "code",
   "execution_count": 171,
   "metadata": {},
   "outputs": [
    {
     "name": "stdout",
     "output_type": "stream",
     "text": [
      "What number would you like to go up to: 9\n",
      "Here is your table! \n",
      "\n",
      "number | squared | cubed\n",
      "------ | ------- | -----\n",
      "1      | 1       | 1\n",
      "2      | 4       | 8\n",
      "3      | 9       | 27\n",
      "4      | 16       | 64\n",
      "5      | 25       | 125\n",
      "6      | 36       | 216\n",
      "7      | 49       | 343\n",
      "8      | 64       | 512\n",
      "9      | 81       | 729\n"
     ]
    }
   ],
   "source": [
    "num = input(\"What number would you like to go up to: \")\n",
    "\n",
    "print(\"Here is your table!\"\" \\n\\nnumber | squared | cubed\\n------ | ------- | -----\")\n",
    "\n",
    "for i in range(1, int(num)+1):\n",
    "    print(f\"{i}      | {i*i}       | {i*i*i}\")"
   ]
  },
  {
   "cell_type": "code",
   "execution_count": 101,
   "metadata": {},
   "outputs": [
    {
     "name": "stdout",
     "output_type": "stream",
     "text": [
      "What number would you like to go up to: 4\n",
      "\n",
      "Here is your table!\n",
      "\n",
      "  number  | squared  |  cubed   \n",
      "----------|----------|----------\n",
      "    1     |    1     |    1     \n",
      "    2     |    4     |    8     \n",
      "    3     |    9     |    27    \n",
      "    4     |    16    |    64    \n",
      "\n",
      "Do you want to continue? Type y for yes and n for no: y\n",
      "What number would you like to go up to: 3\n",
      "\n",
      "Here is your table!\n",
      "\n",
      "  number  | squared  |  cubed   \n",
      "----------|----------|----------\n",
      "    1     |    1     |    1     \n",
      "    2     |    4     |    8     \n",
      "    3     |    9     |    27    \n",
      "\n",
      "Do you want to continue? Type y for yes and n for no: n\n"
     ]
    }
   ],
   "source": [
    "num = input(\"What number would you like to go up to: \")\n",
    "repeat = 'y'\n",
    "no= 'number'\n",
    "sq = 'squared'\n",
    "cu = 'cubed'\n",
    "while repeat == 'y' or repeat == 'yes':\n",
    "    print(f\"\\nHere is your table!\\n\")\n",
    "    print(f\"{no:^10}|{sq:^10}|{cu:^10}\")\n",
    "    print(f\"{'-' :-^10}|{'-' :-^10}|{'-' :-^10}\")\n",
    "    for i in range(1, int(num)+1):\n",
    "        print(f\"{i:^10}|{i*i:^10}|{i*i*i:^10}\")\n",
    "\n",
    "    repeat = input(\"\\nDo you want to continue? Type y for yes and n for no: \")\n",
    "    if (repeat == 'n' or repeat == \"N\"):\n",
    "          break\n",
    "    num = input(\"What number would you like to go up to: \")"
   ]
  },
  {
   "cell_type": "code",
   "execution_count": 134,
   "metadata": {},
   "outputs": [
    {
     "data": {
      "text/plain": [
       "False"
      ]
     },
     "execution_count": 134,
     "metadata": {},
     "output_type": "execute_result"
    }
   ],
   "source": [
    "num = str(-5)\n",
    "num.isdigit()"
   ]
  },
  {
   "cell_type": "code",
   "execution_count": 105,
   "metadata": {},
   "outputs": [
    {
     "name": "stdout",
     "output_type": "stream",
     "text": [
      "Enter a numerical grade value between 0 and 100: 99\n",
      "Your grade is A+\n",
      "Do you want to enter another numerical grade value? Enter y or n: Y\n",
      "Enter a numerical grade value between 0 and 100: 99\n",
      "Your grade is A+\n",
      "Do you want to enter another numerical grade value? Enter y or n: N\n"
     ]
    }
   ],
   "source": [
    "numerical_grade = input(\"Enter a numerical grade value between 0 and 100: \")\n",
    "prompt = 'y'\n",
    "while (prompt.lower() == 'y'):\n",
    "    if int(numerical_grade)>= 95:\n",
    "        print(\"Your grade is A+\")\n",
    "    elif int(numerical_grade)>= 88:\n",
    "        print(\"Your grade is A\")\n",
    "    elif int(numerical_grade)>= 84:\n",
    "            print(\"Your grade is B+\")\n",
    "    elif int(numerical_grade)>= 80:\n",
    "            print(\"Your grade is B\")\n",
    "    elif int(numerical_grade)>= 74:\n",
    "            print(\"Your grade is C+\")\n",
    "    elif int(numerical_grade)>= 67:\n",
    "            print(\"Your grade is C\")\n",
    "    elif int(numerical_grade)>= 60:\n",
    "            print(\"Your grade is D\")\n",
    "    elif int(numerical_grade)>= 0:\n",
    "            print(\"Your grade is F\")\n",
    "    prompt = input(\"Do you want to enter another numerical grade value? Enter y or n: \")\n",
    "    if prompt.lower() != 'y':\n",
    "        break\n",
    "    numerical_grade = input(\"Enter a numerical grade value between 0 and 100: \")"
   ]
  },
  {
   "cell_type": "code",
   "execution_count": 114,
   "metadata": {},
   "outputs": [
    {
     "name": "stdout",
     "output_type": "stream",
     "text": [
      "Title = Goosebumps, author = Unknown, genre = horror\n",
      "Title = Something Deeply Hidden, author = Sean Carrol, genre = science\n",
      "Title = The Big Picture, author = Sean Carrol, genre = science\n",
      "\n",
      "Choose a genre: science or horror: science\n",
      " Title = Something Deeply Hidden\n",
      " Title = The Big Picture\n"
     ]
    }
   ],
   "source": [
    "books = [{'title': 'Goosebumps', 'author': 'Unknown', 'genre': 'horror'},\n",
    "        {'title': 'Something Deeply Hidden', 'author': 'Sean Carrol', 'genre': 'science'},\n",
    "        {'title': 'The Big Picture', 'author': 'Sean Carrol', 'genre': 'science'}]\n",
    "book = books[0]\n",
    "for book in books:\n",
    "    print(f\"Title = {book['title']}, author = {book['author']}, genre = {book['genre']}\")\n",
    "        \n",
    "prompt = input(\"\\nChoose a genre: science or horror: \")\n",
    "if book['genre'] != prompt.lower():\n",
    "          print( \"Sorry no matching books for that genre\")\n",
    "else:\n",
    "          for book in books:\n",
    "              if (book['genre'] == prompt.lower()):\n",
    "                print(f\" Title = {book['title']}\") \n",
    "         \n",
    "                    \n"
   ]
  },
  {
   "cell_type": "code",
   "execution_count": 49,
   "metadata": {},
   "outputs": [
    {
     "name": "stdout",
     "output_type": "stream",
     "text": [
      "28.8\n"
     ]
    }
   ],
   "source": [
    "students = [\n",
    "    {\n",
    "\"id\": \"100001\",\n",
    "\"student\": \"Ada Lovelace\",\n",
    "\"coffee_preference\": \"light\",\n",
    "\"course\": \"web development\",\n",
    "\"grades\": [70, 91, 82, 71],\n",
    "\"pets\": [{\"species\": \"horse\", \"age\": 8}],\n",
    "    },\n",
    "    {\n",
    "\"id\": \"100002\",\n",
    "\"student\": \"Thomas Bayes\",\n",
    "\"coffee_preference\": \"medium\",\n",
    "\"course\": \"data science\",\n",
    "\"grades\": [75, 73, 86, 100],\n",
    "\"pets\": [],\n",
    "    },\n",
    "    {\n",
    "\"id\": \"100003\",\n",
    "\"student\": \"Marie Curie\",\n",
    "\"coffee_preference\": \"light\",\n",
    "\"course\": \"web development\",\n",
    "\"grades\": [70, 89, 69, 65],\n",
    "\"pets\": [{\"species\": \"cat\", \"age\": 0}],\n",
    "    },\n",
    "    {\n",
    "\"id\": \"100004\",\n",
    "\"student\": \"Grace Hopper\",\n",
    "\"coffee_preference\": \"dark\",\n",
    "\"course\": \"data science\",\n",
    "\"grades\": [73, 66, 83, 92],\n",
    "\"pets\": [{\"species\": \"dog\", \"age\": 4}, {\"species\": \"cat\", \"age\": 4}],\n",
    "    },\n",
    "    {\n",
    "\"id\": \"100005\",\n",
    "\"student\": \"Alan Turing\",\n",
    "\"coffee_preference\": \"dark\",\n",
    "\"course\": \"web development\",\n",
    "\"grades\": [78, 98, 85, 65],\n",
    "\"pets\": [\n",
    "            {\"species\": \"horse\", \"age\": 6},\n",
    "            {\"species\": \"horse\", \"age\": 7},\n",
    "            {\"species\": \"dog\", \"age\": 5},\n",
    "        ],\n",
    "    },\n",
    "    {\n",
    "\"id\": \"100006\",\n",
    "\"student\": \"Rosalind Franklin\",\n",
    "\"coffee_preference\": \"dark\",\n",
    "\"course\": \"data science\",\n",
    "\"grades\": [76, 70, 96, 81],\n",
    "\"pets\": [],\n",
    "    },\n",
    "    {\n",
    "\"id\": \"100007\",\n",
    "\"student\": \"Elizabeth Blackwell\",\n",
    "\"coffee_preference\": \"dark\",\n",
    "\"course\": \"web development\",\n",
    "\"grades\": [69, 94, 89, 86],\n",
    "\"pets\": [{\"species\": \"cat\", \"age\": 10}],\n",
    "    },\n",
    "    {\n",
    "\"id\": \"100008\",\n",
    "\"student\": \"Rene Descartes\",\n",
    "\"coffee_preference\": \"medium\",\n",
    "\"course\": \"data science\",\n",
    "\"grades\": [87, 79, 90, 99],\n",
    "\"pets\": [{\"species\": \"cat\", \"age\": 10}, {\"species\": \"cat\", \"age\": 8}],\n",
    "    },\n",
    "    {\n",
    "\"id\": \"100009\",\n",
    "\"student\": \"Ahmed Zewail\",\n",
    "\"coffee_preference\": \"medium\",\n",
    "\"course\": \"data science\",\n",
    "\"grades\": [74, 99, 93, 89],\n",
    "\"pets\": [{\"species\": \"cat\", \"age\": 0}, {\"species\": \"cat\", \"age\": 0}],\n",
    "    },\n",
    "    {\n",
    "\"id\": \"100010\",\n",
    "\"student\": \"Chien-Shiung Wu\",\n",
    "\"coffee_preference\": \"medium\",\n",
    "\"course\": \"web development\",\n",
    "\"grades\": [82, 92, 91, 65],\n",
    "\"pets\": [{\"species\": \"cat\", \"age\": 8}],\n",
    "    },\n",
    "    {\n",
    "\"id\": \"100011\",\n",
    "\"student\": \"William Sanford Nye\",\n",
    "\"coffee_preference\": \"dark\",\n",
    "\"course\": \"data science\",\n",
    "\"grades\": [70, 92, 65, 99],\n",
    "\"pets\": [{\"species\": \"cat\", \"age\": 8}, {\"species\": \"cat\", \"age\": 5}],\n",
    "    },\n",
    "    {\n",
    "\"id\": \"100012\",\n",
    "\"student\": \"Carl Sagan\",\n",
    "\"coffee_preference\": \"medium\",\n",
    "\"course\": \"data science\",\n",
    "\"grades\": [100, 86, 91, 87],\n",
    "\"pets\": [{\"species\": \"cat\", \"age\": 10}],\n",
    "    },\n",
    "    {\n",
    "\"id\": \"100013\",\n",
    "\"student\": \"Jane Goodall\",\n",
    "\"coffee_preference\": \"light\",\n",
    "\"course\": \"web development\",\n",
    "\"grades\": [80, 70, 68, 98],\n",
    "\"pets\": [{\"species\": \"horse\", \"age\": 4}],\n",
    "    },\n",
    "    {\n",
    "\"id\": \"100014\",\n",
    "\"student\": \"Richard Feynman\",\n",
    "\"coffee_preference\": \"medium\",\n",
    "\"course\": \"web development\",\n",
    "\"grades\": [73, 99, 86, 98],\n",
    "\"pets\": [{\"species\": \"dog\", \"age\": 6}],\n",
    "    },\n",
    "]\n",
    "\n",
    "dark_coffee_drinkers = [student for student in students if student['coffee_preference'] == 'dark']\n",
    "dark_coffee_drinker = dark_coffee_drinkers[0]\n",
    "grades_range_dark_coffee = [max(dark_coffee_drinker['grades'])-min(dark_coffee_drinker['grades']) for dark_coffee_drinker in dark_coffee_drinkers]\n",
    "average_grade_dark_coffee = sum(grades_range_dark_coffee)/len(grades_range_dark_coffee)\n",
    "print(average_grade_dark_coffee)"
   ]
  },
  {
   "cell_type": "code",
   "execution_count": 17,
   "metadata": {},
   "outputs": [
    {
     "data": {
      "text/plain": [
       "\"Left Align!    '|' Centered     Right Align\""
      ]
     },
     "execution_count": 17,
     "metadata": {},
     "output_type": "execute_result"
    }
   ],
   "source": [
    "left_aligned = \"Left Align!\"\n",
    "center = \"Centered\"\n",
    "right_aligned = \"Right Align\"\n",
    "\n",
    "f\"{left_aligned:<15}'|'{center:^10}{right_aligned:>15}\""
   ]
  },
  {
   "cell_type": "code",
   "execution_count": 96,
   "metadata": {},
   "outputs": [
    {
     "name": "stdout",
     "output_type": "stream",
     "text": [
      "1\n",
      "2\n",
      "fizz\n",
      "4\n",
      "Buzz\n",
      "fizz\n",
      "7\n",
      "8\n",
      "fizz\n",
      "Buzz\n",
      "11\n",
      "fizz\n",
      "13\n",
      "14\n",
      "fizzbuzz\n",
      "16\n",
      "17\n",
      "fizz\n",
      "19\n",
      "Buzz\n",
      "fizz\n",
      "22\n",
      "23\n",
      "fizz\n",
      "Buzz\n",
      "26\n",
      "fizz\n",
      "28\n",
      "29\n",
      "fizzbuzz\n",
      "31\n",
      "32\n",
      "fizz\n",
      "34\n",
      "Buzz\n",
      "fizz\n",
      "37\n",
      "38\n",
      "fizz\n",
      "Buzz\n",
      "41\n",
      "fizz\n",
      "43\n",
      "44\n",
      "fizzbuzz\n",
      "46\n",
      "47\n",
      "fizz\n",
      "49\n",
      "Buzz\n",
      "fizz\n",
      "52\n",
      "53\n",
      "fizz\n",
      "Buzz\n",
      "56\n",
      "fizz\n",
      "58\n",
      "59\n",
      "fizzbuzz\n",
      "61\n",
      "62\n",
      "fizz\n",
      "64\n",
      "Buzz\n",
      "fizz\n",
      "67\n",
      "68\n",
      "fizz\n",
      "Buzz\n",
      "71\n",
      "fizz\n",
      "73\n",
      "74\n",
      "fizzbuzz\n",
      "76\n",
      "77\n",
      "fizz\n",
      "79\n",
      "Buzz\n",
      "fizz\n",
      "82\n",
      "83\n",
      "fizz\n",
      "Buzz\n",
      "86\n",
      "fizz\n",
      "88\n",
      "89\n",
      "fizzbuzz\n",
      "91\n",
      "92\n",
      "fizz\n",
      "94\n",
      "Buzz\n",
      "fizz\n",
      "97\n",
      "98\n",
      "fizz\n",
      "Buzz\n"
     ]
    }
   ],
   "source": [
    "for i in range(1,101):\n",
    "    if (i % 5 == 0 and i % 3 ==0):\n",
    "        print(\"fizzbuzz\")\n",
    "    elif i % 5 == 0:\n",
    "        print(\"Buzz\")\n",
    "    elif i % 3 == 0:\n",
    "        print(\"fizz\")\n",
    "    else:\n",
    "        print(i)"
   ]
  }
 ],
 "metadata": {
  "kernelspec": {
   "display_name": "Python 3",
   "language": "python",
   "name": "python3"
  },
  "language_info": {
   "codemirror_mode": {
    "name": "ipython",
    "version": 3
   },
   "file_extension": ".py",
   "mimetype": "text/x-python",
   "name": "python",
   "nbconvert_exporter": "python",
   "pygments_lexer": "ipython3",
   "version": "3.7.4"
  }
 },
 "nbformat": 4,
 "nbformat_minor": 2
}
