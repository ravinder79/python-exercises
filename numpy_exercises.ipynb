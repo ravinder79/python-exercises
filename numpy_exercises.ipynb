{
 "cells": [
  {
   "cell_type": "code",
   "execution_count": 41,
   "metadata": {},
   "outputs": [],
   "source": [
    "import numpy as np\n",
    "import math\n",
    "a = np.array([4, 10, 12, 23, -2, -1, 0, 0, 0, -6, 3, -7])\n"
   ]
  },
  {
   "cell_type": "markdown",
   "metadata": {},
   "source": [
    "How many negative numbers are there?\n",
    "\n",
    "How many positive numbers are there?\n",
    "\n",
    "How many even positive numbers are there?\n",
    "\n",
    "If you were to add 3 to each data point, how many positive numbers would there be?\n",
    "\n",
    "If you squared each number, what would the new mean and standard deviation be?\n",
    "\n",
    "A common statistical operation on a dataset is centering. This means to adjust the data such that the center of the data is at 0. This is done by subtracting the mean from each data point. Center the data set.\n",
    "\n",
    "Calculate the z-score for each data point. Recall that the z-score is given by:"
   ]
  },
  {
   "cell_type": "code",
   "execution_count": 30,
   "metadata": {},
   "outputs": [
    {
     "data": {
      "text/plain": [
       "5"
      ]
     },
     "execution_count": 30,
     "metadata": {},
     "output_type": "execute_result"
    }
   ],
   "source": [
    "#How many negative numbers are there?\n",
    "len(a[a < 0])\n",
    "\n",
    "(a>0).sum()"
   ]
  },
  {
   "cell_type": "code",
   "execution_count": 35,
   "metadata": {},
   "outputs": [
    {
     "name": "stdout",
     "output_type": "stream",
     "text": [
      "count of positive numbers: 5\n"
     ]
    }
   ],
   "source": [
    "# How many positive numbers are there?\n",
    "print(\"count of positive numbers:\",  (a > 0).sum())"
   ]
  },
  {
   "cell_type": "code",
   "execution_count": 32,
   "metadata": {},
   "outputs": [
    {
     "name": "stdout",
     "output_type": "stream",
     "text": [
      "count of even positive numbers: 3\n"
     ]
    }
   ],
   "source": [
    "# How many even positive numbers are there?\n",
    "\n",
    "print(\"count of even positive numbers:\", ((a > 0) & (a % 2 == 0)).sum())"
   ]
  },
  {
   "cell_type": "code",
   "execution_count": 37,
   "metadata": {},
   "outputs": [
    {
     "data": {
      "text/plain": [
       "10"
      ]
     },
     "execution_count": 37,
     "metadata": {},
     "output_type": "execute_result"
    }
   ],
   "source": [
    "# If you were to add 3 to each data point, how many positive numbers would there be?\n",
    "((a+3) >0).sum()"
   ]
  },
  {
   "cell_type": "code",
   "execution_count": 46,
   "metadata": {},
   "outputs": [
    {
     "data": {
      "text/plain": [
       "144.0243035046516"
      ]
     },
     "execution_count": 46,
     "metadata": {},
     "output_type": "execute_result"
    }
   ],
   "source": [
    "# If you squared each number, what would the new mean and standard deviation be?\n",
    "mean = (a**2).mean()\n",
    "(a**2).std()"
   ]
  },
  {
   "cell_type": "code",
   "execution_count": null,
   "metadata": {},
   "outputs": [],
   "source": []
  }
 ],
 "metadata": {
  "kernelspec": {
   "display_name": "Python 3",
   "language": "python",
   "name": "python3"
  },
  "language_info": {
   "codemirror_mode": {
    "name": "ipython",
    "version": 3
   },
   "file_extension": ".py",
   "mimetype": "text/x-python",
   "name": "python",
   "nbconvert_exporter": "python",
   "pygments_lexer": "ipython3",
   "version": "3.7.6"
  }
 },
 "nbformat": 4,
 "nbformat_minor": 4
}
